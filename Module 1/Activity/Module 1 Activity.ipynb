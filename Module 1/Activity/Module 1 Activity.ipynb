{
 "cells": [
  {
   "cell_type": "markdown",
   "metadata": {},
   "source": [
    "# <h3 align=\"center\">__Module 1 Activity__</h3>\n",
    "# <h3 align=\"center\">__Assigned at the start of Module 1__</h3>\n",
    "# <h3 align=\"center\">__Due at the end of Module 1__</h3><br>\n",
    "\n"
   ]
  },
  {
   "cell_type": "markdown",
   "metadata": {},
   "source": [
    "# Weekly Discussion Forum Participation\n",
    "\n",
    "Each week, you are required to participate in the module’s discussion forum. The discussion forum consists of the week's Module Activity, which is released at the beginning of the module. You must complete/attempt the activity before you can post about the activity and anything that relates to the topic. \n",
    "\n",
    "## Grading of the Discussion\n",
    "\n",
    "### 1. Initial Post:\n",
    "Create your thread by **Day 5 (Saturday night at midnight, PST).**\n",
    "\n",
    "### 2. Responses:\n",
    "Respond to at least two other posts by **Day 7 (Monday night at midnight, PST).**\n",
    "\n",
    "---\n",
    "\n",
    "## Grading Criteria:\n",
    "\n",
    "Your participation will be graded as follows:\n",
    "\n",
    "### Full Credit (100 points):\n",
    "- Submit your initial post by **Day 5.**\n",
    "- Respond to at least two other posts by **Day 7.**\n",
    "\n",
    "### Half Credit (50 points):\n",
    "- If your initial post is late but you respond to two other posts.\n",
    "- If your initial post is on time but you fail to respond to at least two other posts.\n",
    "\n",
    "### No Credit (0 points):\n",
    "- If both your initial post and responses are late.\n",
    "- If you fail to submit an initial post and do not respond to any others.\n",
    "\n",
    "---\n",
    "\n",
    "## Additional Notes:\n",
    "\n",
    "- **Late Initial Posts:** Late posts will automatically receive half credit if two responses are completed on time.\n",
    "- **Substance Matters:** Responses must be thoughtful and constructive. Comments like “Great post!” or “I agree!” without further explanation will not earn credit.\n",
    "- **Balance Participation:** Aim to engage with threads that have fewer or no responses to ensure a balanced discussion.\n",
    "\n",
    "---\n",
    "\n",
    "## Avoid:\n",
    "- A number of posts within a very short time-frame, especially immediately prior to the posting deadline.\n",
    "- Posts that complement another post, and then consist of a summary of that.\n"
   ]
  },
  {
   "cell_type": "markdown",
   "metadata": {},
   "source": [
    "## General Overview of Data ##"
   ]
  },
  {
   "cell_type": "code",
   "execution_count": 816,
   "metadata": {},
   "outputs": [
    {
     "name": "stdout",
     "output_type": "stream",
     "text": [
      "+----+---------------------+--------------------+---------------------+--------------------+----------+---------------+\n",
      "|    |   sepal length (cm) |   sepal width (cm) |   petal length (cm) |   petal width (cm) |   target | target_name   |\n",
      "+====+=====================+====================+=====================+====================+==========+===============+\n",
      "|  0 |                 5.1 |                3.5 |                 1.4 |                0.2 |        0 | setosa        |\n",
      "+----+---------------------+--------------------+---------------------+--------------------+----------+---------------+\n",
      "|  1 |                 4.9 |                3   |                 1.4 |                0.2 |        0 | setosa        |\n",
      "+----+---------------------+--------------------+---------------------+--------------------+----------+---------------+\n",
      "|  2 |                 4.7 |                3.2 |                 1.3 |                0.2 |        0 | setosa        |\n",
      "+----+---------------------+--------------------+---------------------+--------------------+----------+---------------+\n",
      "|  3 |                 7   |                3.2 |                 4.7 |                1.4 |        1 | versicolor    |\n",
      "+----+---------------------+--------------------+---------------------+--------------------+----------+---------------+\n",
      "|  4 |                 6.4 |                3.2 |                 4.5 |                1.5 |        1 | versicolor    |\n",
      "+----+---------------------+--------------------+---------------------+--------------------+----------+---------------+\n",
      "|  5 |                 6.9 |                3.1 |                 4.9 |                1.5 |        1 | versicolor    |\n",
      "+----+---------------------+--------------------+---------------------+--------------------+----------+---------------+\n",
      "|  6 |                 6.3 |                3.3 |                 6   |                2.5 |        2 | virginica     |\n",
      "+----+---------------------+--------------------+---------------------+--------------------+----------+---------------+\n",
      "|  7 |                 5.8 |                2.7 |                 5.1 |                1.9 |        2 | virginica     |\n",
      "+----+---------------------+--------------------+---------------------+--------------------+----------+---------------+\n",
      "|  8 |                 7.1 |                3   |                 5.9 |                2.1 |        2 | virginica     |\n",
      "+----+---------------------+--------------------+---------------------+--------------------+----------+---------------+\n"
     ]
    }
   ],
   "source": [
    "import pandas as pd\n",
    "from sklearn.datasets import load_iris\n",
    "from tabulate import tabulate\n",
    "\n",
    "iris = load_iris()\n",
    "\n",
    "iris_df = pd.DataFrame(\n",
    "    data=iris.data,\n",
    "    columns=iris.feature_names\n",
    ")\n",
    "iris_df['target'] = iris.target\n",
    "\n",
    "iris_df['target_name'] = [iris.target_names[x] for x in iris_df['target']]\n",
    "\n",
    "top_5_of_each_species = iris_df.groupby('target_name').head(3).reset_index(drop=True)\n",
    "\n",
    "print(tabulate(top_5_of_each_species, headers='keys', tablefmt='grid'))\n"
   ]
  },
  {
   "cell_type": "markdown",
   "metadata": {},
   "source": [
    "# __1. Module 1__<br>\n",
    "\n",
    "Python has four inbuilt data structures as follows:<br>\n",
    "1. Lists\n",
    "2. Dictionary\n",
    "3. Tuple\n",
    "4. Set <br>\n",
    "\n",
    "For each of these data structures use the Iris data set and provide the following:"
   ]
  },
  {
   "cell_type": "markdown",
   "metadata": {},
   "source": [
    "# (a) Lists\n",
    "- Define a \"list\" as comprehensively and accurately as you would find in a dictionary. Provide a clear and concise explanation, covering its essential meaning, characteristics, and any relevant context.\n",
    "- Create a list in Python using the first observation, all features and label from the Iris data set\n",
    "- Show the output with a print statement\n",
    "- Add the second observation of the Iris data set to your list\n",
    "- Show the output of your list with a print statement"
   ]
  },
  {
   "cell_type": "markdown",
   "metadata": {},
   "source": [
    "## A list is a built-in data structure that can store multiple items in a single variable. They are ordered and each element can be accessed by its index. Lists allow different types of data elements and duplicates. They are mutable, meaning their elements can be modified, replaced, or removed, and new elements can be added at any position. Their size grows or shrinks automatically, making them dynamic. ##"
   ]
  },
  {
   "cell_type": "code",
   "execution_count": 817,
   "metadata": {},
   "outputs": [],
   "source": [
    "## import libraries\n",
    "import pandas as pd\n",
    "## import iris dataset\n",
    "from sklearn.datasets import load_iris"
   ]
  },
  {
   "cell_type": "code",
   "execution_count": 818,
   "metadata": {},
   "outputs": [
    {
     "name": "stdout",
     "output_type": "stream",
     "text": [
      "Initial list with first observation: \n",
      "  • sepal length (cm): 5.1\n",
      "  • sepal width (cm): 3.5\n",
      "  • petal length (cm): 1.4\n",
      "  • petal width (cm): 0.2\n",
      "  • setosa\n",
      "\n",
      "Updated list after adding second observation: \n",
      "\n",
      "Observation 1:\n",
      "  • sepal length (cm): 5.1\n",
      "  • sepal width (cm): 3.5\n",
      "  • petal length (cm): 1.4\n",
      "  • petal width (cm): 0.2\n",
      "  • setosa\n",
      "\n",
      "Observation 2:\n",
      "  • sepal length (cm): 4.9\n",
      "  • sepal width (cm): 3.0\n",
      "  • petal length (cm): 1.4\n",
      "  • petal width (cm): 0.2\n",
      "  • setosa\n",
      "\n",
      "\n",
      "List of observations, without organizing info:\n",
      "[[[np.float64(5.1), np.float64(3.5), np.float64(1.4), np.float64(0.2)], np.int64(0)], [[np.float64(4.9), np.float64(3.0), np.float64(1.4), np.float64(0.2)], np.int64(0)]]\n"
     ]
    }
   ],
   "source": [
    "iris = load_iris()\n",
    "\n",
    "# create a list using the first observation\n",
    "list_of_observations = [[[feature_value for feature_value in iris.data[0]], iris.target[0]]]\n",
    "print(\"Initial list with first observation: \")\n",
    "for index, feature_value in enumerate(list_of_observations[0][0]):\n",
    "    # print the feature name and the value of the feature\n",
    "    print(f\"  • {iris.feature_names[index]}: {feature_value}\")\n",
    "# print the target name (the species of the iris)\n",
    "print(f\"  • {iris.target_names[list_of_observations[0][1]]}\")\n",
    "\n",
    "# add the second observation to the list\n",
    "list_of_observations.append([list(iris.data[1]), iris.target[1]])\n",
    "\n",
    "print(\"\\nUpdated list after adding second observation: \")\n",
    "for observation_index, current_observation in enumerate(list_of_observations):\n",
    "    \"\"\" print the updated list, which includes reprinting the first and now \n",
    "    printing the second observation \"\"\"\n",
    "    \n",
    "    print(f\"\\nObservation {observation_index + 1}:\")\n",
    "    for feature_index, feature_value in enumerate(current_observation[0]):\n",
    "        print(f\"  • {iris.feature_names[feature_index]}: {feature_value}\")\n",
    "    print(f\"  • {iris.target_names[current_observation[1]]}\")\n",
    "print(\"\\n\")\n",
    "\n",
    "\"\"\" print out the pure list of observations, without adding any additional information\n",
    "so you can see the structure of the list \"\"\"\n",
    "print(\"List of observations, without organizing info:\")\n",
    "print(list_of_observations)"
   ]
  },
  {
   "cell_type": "markdown",
   "metadata": {},
   "source": [
    "# (b) Dictionary\n",
    "- Define a \"dictionary\" as comprehensively and accurately as you would find in a dictionary. Provide a clear and concise explanation, covering its essential meaning, characteristics, and any relevant context.\n",
    "- Create a dictionary in Python using the classes of Setosa, Versicolor and Virginica, allow elements (2 observations per class) to be added\n",
    "- Show the output with a print statement\n",
    "- Add a third observation of the Iris data set for each class\n",
    "- Show the output of your with a print statement"
   ]
  },
  {
   "cell_type": "markdown",
   "metadata": {},
   "source": [
    "## A dictionary stores information as key:value pairs. Their order is based on how they were inserted. Keys are unique identifiers, meaning that they cannot be duplicated or mutated. Values are the data associated with a key, and they can be modified or of any type. ##"
   ]
  },
  {
   "cell_type": "markdown",
   "metadata": {},
   "source": [
    "## Creating a dictionary with 2 observations per target ##"
   ]
  },
  {
   "cell_type": "code",
   "execution_count": 819,
   "metadata": {},
   "outputs": [
    {
     "name": "stdout",
     "output_type": "stream",
     "text": [
      "\n",
      "Observations for target setosa:\n",
      "\n",
      "Observation 1:\n",
      "sepal length (cm): 5.1, sepal width (cm): 3.5, petal length (cm): 1.4, petal width (cm): 0.2\n",
      "\n",
      "Observation 2:\n",
      "sepal length (cm): 4.9, sepal width (cm): 3.0, petal length (cm): 1.4, petal width (cm): 0.2\n",
      " \n",
      "\n",
      "Observations for target versicolor:\n",
      "\n",
      "Observation 1:\n",
      "sepal length (cm): 7.0, sepal width (cm): 3.2, petal length (cm): 4.7, petal width (cm): 1.4\n",
      "\n",
      "Observation 2:\n",
      "sepal length (cm): 6.4, sepal width (cm): 3.2, petal length (cm): 4.5, petal width (cm): 1.5\n",
      " \n",
      "\n",
      "Observations for target virginica:\n",
      "\n",
      "Observation 1:\n",
      "sepal length (cm): 6.3, sepal width (cm): 3.3, petal length (cm): 6.0, petal width (cm): 2.5\n",
      "\n",
      "Observation 2:\n",
      "sepal length (cm): 5.8, sepal width (cm): 2.7, petal length (cm): 5.1, petal width (cm): 1.9\n"
     ]
    }
   ],
   "source": [
    "# create a dictionary, adding 2 observations per unique target, focusing on setosa, versicolor, and virginica\n",
    "dictionary_of_observations = {}\n",
    "# iterate through each unique target\n",
    "for iris_target in set(iris.target):\n",
    "    # create a dictionary key for the target\n",
    "    dictionary_of_observations[iris_target] = []\n",
    "    \n",
    "    if (iris_target > 0):\n",
    "        # print a blank line between each target\n",
    "        print(\" \")\n",
    "\n",
    "    print(f\"\\nObservations for target {iris.target_names[iris_target]}:\") \n",
    "    \n",
    "    # create a count to only add 2 observations per target\n",
    "    count = 0\n",
    "\n",
    "    for observation_index, current_target in enumerate(iris.target):\n",
    "        # only add the observation if the target matches the current target\n",
    "        if current_target == iris_target:\n",
    "            # add the observation to the dictionary\n",
    "            dictionary_of_observations[iris_target].append([list(iris.data[observation_index]), current_target])\n",
    "            count += 1\n",
    "\n",
    "            print(f\"\\nObservation {count}:\")\n",
    "            \n",
    "            for feature_index, current_feature_value in enumerate(dictionary_of_observations[iris_target][-1][0]):\n",
    "                # don't add a comma after the last feature value\n",
    "                if feature_index == len(dictionary_of_observations[iris_target][-1][0]) - 1:\n",
    "                    print(f\"{iris.feature_names[feature_index]}: {current_feature_value}\")\n",
    "                else:\n",
    "                    print(f\"{iris.feature_names[feature_index]}: {current_feature_value}\", end=\", \")  \n",
    "        \n",
    "        if count == 2:\n",
    "            break"
   ]
  },
  {
   "cell_type": "markdown",
   "metadata": {},
   "source": [
    "## Dictionary of observations, without special formatting ##"
   ]
  },
  {
   "cell_type": "code",
   "execution_count": 820,
   "metadata": {},
   "outputs": [
    {
     "name": "stdout",
     "output_type": "stream",
     "text": [
      "\n",
      "Dictionary of observations, without organizing info:\n",
      "{np.int64(0): [[[np.float64(5.1), np.float64(3.5), np.float64(1.4), np.float64(0.2)], np.int64(0)], [[np.float64(4.9), np.float64(3.0), np.float64(1.4), np.float64(0.2)], np.int64(0)]], np.int64(1): [[[np.float64(7.0), np.float64(3.2), np.float64(4.7), np.float64(1.4)], np.int64(1)], [[np.float64(6.4), np.float64(3.2), np.float64(4.5), np.float64(1.5)], np.int64(1)]], np.int64(2): [[[np.float64(6.3), np.float64(3.3), np.float64(6.0), np.float64(2.5)], np.int64(2)], [[np.float64(5.8), np.float64(2.7), np.float64(5.1), np.float64(1.9)], np.int64(2)]]}\n"
     ]
    }
   ],
   "source": [
    "\"\"\" print out the pure dictionary of observations, without adding any additional information\n",
    "so you can see the structure of the dictionary \"\"\"\n",
    "print(\"\\nDictionary of observations, without organizing info:\")\n",
    "print(dictionary_of_observations)"
   ]
  },
  {
   "cell_type": "markdown",
   "metadata": {},
   "source": [
    "## Adding a 3rd observation to the dictionary for each target ##"
   ]
  },
  {
   "cell_type": "code",
   "execution_count": 821,
   "metadata": {},
   "outputs": [
    {
     "name": "stdout",
     "output_type": "stream",
     "text": [
      "\n",
      "Updated dictionary after adding third observation:\n",
      "\n",
      "Observations for target setosa:\n",
      "Observation 1:\n",
      "sepal length (cm): 5.1, sepal width (cm): 3.5, petal length (cm): 1.4, petal width (cm): 0.2\n",
      "Observation 2:\n",
      "sepal length (cm): 4.9, sepal width (cm): 3.0, petal length (cm): 1.4, petal width (cm): 0.2\n",
      "Observation 3:\n",
      "sepal length (cm): 4.7, sepal width (cm): 3.2, petal length (cm): 1.3, petal width (cm): 0.2\n",
      "\n",
      "Observations for target versicolor:\n",
      "Observation 1:\n",
      "sepal length (cm): 7.0, sepal width (cm): 3.2, petal length (cm): 4.7, petal width (cm): 1.4\n",
      "Observation 2:\n",
      "sepal length (cm): 6.4, sepal width (cm): 3.2, petal length (cm): 4.5, petal width (cm): 1.5\n",
      "Observation 3:\n",
      "sepal length (cm): 6.9, sepal width (cm): 3.1, petal length (cm): 4.9, petal width (cm): 1.5\n",
      "\n",
      "Observations for target virginica:\n",
      "Observation 1:\n",
      "sepal length (cm): 6.3, sepal width (cm): 3.3, petal length (cm): 6.0, petal width (cm): 2.5\n",
      "Observation 2:\n",
      "sepal length (cm): 5.8, sepal width (cm): 2.7, petal length (cm): 5.1, petal width (cm): 1.9\n",
      "Observation 3:\n",
      "sepal length (cm): 7.1, sepal width (cm): 3.0, petal length (cm): 5.9, petal width (cm): 2.1\n"
     ]
    }
   ],
   "source": [
    "# add a third observation to the dictionary for each target\n",
    "for iris_target in dictionary_of_observations:\n",
    "    # add the third observation to the dictionary that corresponds to the target\n",
    "    for observation_index, current_target in enumerate(iris.target):\n",
    "        # skip the observation if it's already in the dictionary\n",
    "        if current_target == iris_target and [list(iris.data[observation_index]), \n",
    "                                              current_target] not in dictionary_of_observations[iris_target]:\n",
    "            dictionary_of_observations[iris_target].append([list(iris.data[observation_index]), current_target])\n",
    "            break\n",
    "\n",
    "print(\"\\nUpdated dictionary after adding third observation:\")\n",
    "for iris_target in dictionary_of_observations:\n",
    "    \n",
    "    print(f\"\\nObservations for target {iris.target_names[iris_target]}:\")\n",
    "    for observation_index, observation in enumerate(dictionary_of_observations[iris_target]):\n",
    "        print(f\"Observation {observation_index + 1}:\")\n",
    "        for feature_index, current_target in enumerate(observation[0]):\n",
    "            if feature_index == len(dictionary_of_observations[iris_target][-1][0]) - 1:\n",
    "                print(f\"{iris.feature_names[feature_index]}: {current_target}\")\n",
    "            else:\n",
    "                print(f\"{iris.feature_names[feature_index]}: {current_target}\", end=\", \")  "
   ]
  },
  {
   "cell_type": "markdown",
   "metadata": {},
   "source": [
    "## Printing out dictionary without formatting ##"
   ]
  },
  {
   "cell_type": "code",
   "execution_count": 822,
   "metadata": {},
   "outputs": [
    {
     "name": "stdout",
     "output_type": "stream",
     "text": [
      "\n",
      "Updated dictionary of observations, without organizing info:\n",
      "{np.int64(0): [[[np.float64(5.1), np.float64(3.5), np.float64(1.4), np.float64(0.2)], np.int64(0)], [[np.float64(4.9), np.float64(3.0), np.float64(1.4), np.float64(0.2)], np.int64(0)], [[np.float64(4.7), np.float64(3.2), np.float64(1.3), np.float64(0.2)], np.int64(0)]], np.int64(1): [[[np.float64(7.0), np.float64(3.2), np.float64(4.7), np.float64(1.4)], np.int64(1)], [[np.float64(6.4), np.float64(3.2), np.float64(4.5), np.float64(1.5)], np.int64(1)], [[np.float64(6.9), np.float64(3.1), np.float64(4.9), np.float64(1.5)], np.int64(1)]], np.int64(2): [[[np.float64(6.3), np.float64(3.3), np.float64(6.0), np.float64(2.5)], np.int64(2)], [[np.float64(5.8), np.float64(2.7), np.float64(5.1), np.float64(1.9)], np.int64(2)], [[np.float64(7.1), np.float64(3.0), np.float64(5.9), np.float64(2.1)], np.int64(2)]]}\n"
     ]
    }
   ],
   "source": [
    "\"\"\" print out the updated dictionary of observations, without adding any additional information\n",
    "so you can see the structure of the dictionary \"\"\"\n",
    "print(\"\\nUpdated dictionary of observations, without organizing info:\")\n",
    "print(dictionary_of_observations)"
   ]
  },
  {
   "cell_type": "markdown",
   "metadata": {},
   "source": [
    "# (c) Tuple\n",
    "- Define a \"tuple\"\" as comprehensively and accurately as you would find in a dictionary. Provide a clear and concise explanation, covering its essential meaning, characteristics, and any relevant context.\n",
    "- Create a tuple in Python using the classes of Setosa, Versicolor and Virginica, allow elements ( start with 2 observations and 2 features per class) to be added\n",
    "- Show the output with a print statement\n",
    "- Add a third observation and a third feature of the Iris data set for each class\n",
    "- Show the output of your with a print statement"
   ]
  },
  {
   "cell_type": "markdown",
   "metadata": {},
   "source": [
    "## Tuples is an ordered dataset which can store multiple items in a variable. Each item is seperated by commas and can be of different data types. It cannot be changed, so once it has been created, elements cannot be added, removed, or replaced. Elements are accessed using indexing. ##"
   ]
  },
  {
   "cell_type": "markdown",
   "metadata": {},
   "source": [
    "## Creating a tuple with 2 obs per class and 2 features per class ##"
   ]
  },
  {
   "cell_type": "code",
   "execution_count": 823,
   "metadata": {},
   "outputs": [
    {
     "name": "stdout",
     "output_type": "stream",
     "text": [
      "\n",
      "Observations for target setosa:\n",
      "\n",
      "Observation 1:\n",
      "  • sepal length (cm): 5.1\n",
      "  • sepal width (cm): 3.5\n",
      "\n",
      "Observation 2:\n",
      "  • sepal length (cm): 4.9\n",
      "  • sepal width (cm): 3.0\n",
      "\n",
      "Observations for target versicolor:\n",
      "\n",
      "Observation 1:\n",
      "  • sepal length (cm): 7.0\n",
      "  • sepal width (cm): 3.2\n",
      "\n",
      "Observation 2:\n",
      "  • sepal length (cm): 6.4\n",
      "  • sepal width (cm): 3.2\n",
      "\n",
      "Observations for target virginica:\n",
      "\n",
      "Observation 1:\n",
      "  • sepal length (cm): 6.3\n",
      "  • sepal width (cm): 3.3\n",
      "\n",
      "Observation 2:\n",
      "  • sepal length (cm): 5.8\n",
      "  • sepal width (cm): 2.7\n"
     ]
    }
   ],
   "source": [
    "import numpy as np\n",
    "\n",
    "# create a tuple, adding 2 observations per unique target, and 2 features per observation\n",
    "tuple_of_observations = ()\n",
    "# iterate through each unique target\n",
    "for iris_target in set(iris.target):\n",
    "    # create a list to store the observations\n",
    "    observations = []\n",
    "    print(f\"\\nObservations for target {iris.target_names[iris_target]}:\")\n",
    "    \n",
    "    # create a count to only add 2 observations per target\n",
    "    count = 0\n",
    "\n",
    "    for index, current_target in enumerate(iris.target):\n",
    "        # only add the observation if the target matches the current target\n",
    "        if current_target == iris_target:\n",
    "            # add the observation to the list, only including the first 2 features\n",
    "            observations.append([iris.data[index][:2], current_target])\n",
    "            count += 1\n",
    "\n",
    "            # print the observation\n",
    "            print(f\"\\nObservation {count}:\")\n",
    "            for feature_index, feature_value in enumerate(observations[-1][0]):\n",
    "                print(f\"  • {iris.feature_names[feature_index]}: {feature_value}\")\n",
    "        \n",
    "        if count == 2:\n",
    "            break\n",
    "\n",
    "    # add the list of observations to the tuple\n",
    "    tuple_of_observations += (observations,)"
   ]
  },
  {
   "cell_type": "markdown",
   "metadata": {},
   "source": [
    "## Printing pure tuple to see current data structure ##"
   ]
  },
  {
   "cell_type": "code",
   "execution_count": 824,
   "metadata": {},
   "outputs": [
    {
     "name": "stdout",
     "output_type": "stream",
     "text": [
      "\n",
      "Tuple of observations, without organizing info:\n",
      "([[array([5.1, 3.5]), np.int64(0)], [array([4.9, 3. ]), np.int64(0)]], [[array([7. , 3.2]), np.int64(1)], [array([6.4, 3.2]), np.int64(1)]], [[array([6.3, 3.3]), np.int64(2)], [array([5.8, 2.7]), np.int64(2)]])\n"
     ]
    }
   ],
   "source": [
    "\"\"\" print out the pure tuple of observations, without adding any additional information\n",
    "so you can see the structure of the tuple \"\"\"\n",
    "print(\"\\nTuple of observations, without organizing info:\")\n",
    "print(tuple_of_observations)"
   ]
  },
  {
   "cell_type": "markdown",
   "metadata": {},
   "source": [
    "## Adding 3rd obs to the tuple for each target and a 3rd feature to each tuple ##"
   ]
  },
  {
   "cell_type": "code",
   "execution_count": 825,
   "metadata": {},
   "outputs": [
    {
     "name": "stdout",
     "output_type": "stream",
     "text": [
      "Updated tuple after adding third observation:\n",
      "\n",
      "Observations for target setosa:\n",
      "\n",
      "Observation 1:\n",
      "sepal length (cm): 5.1, sepal width (cm): 3.5, petal length (cm): 1.4, \n",
      "Observation 2:\n",
      "sepal length (cm): 4.9, sepal width (cm): 3.0, petal length (cm): 1.4, \n",
      "Observation 3:\n",
      "sepal length (cm): 4.7, sepal width (cm): 3.2, petal length (cm): 1.3, \n",
      "Observations for target versicolor:\n",
      "\n",
      "Observation 1:\n",
      "sepal length (cm): 7.0, sepal width (cm): 3.2, petal length (cm): 4.7, \n",
      "Observation 2:\n",
      "sepal length (cm): 6.4, sepal width (cm): 3.2, petal length (cm): 4.7, \n",
      "Observation 3:\n",
      "sepal length (cm): 6.9, sepal width (cm): 3.1, petal length (cm): 4.9, \n",
      "Observations for target virginica:\n",
      "\n",
      "Observation 1:\n",
      "sepal length (cm): 6.3, sepal width (cm): 3.3, petal length (cm): 6.0, \n",
      "Observation 2:\n",
      "sepal length (cm): 5.8, sepal width (cm): 2.7, petal length (cm): 6.0, \n",
      "Observation 3:\n",
      "sepal length (cm): 7.1, sepal width (cm): 3.0, petal length (cm): 5.9, "
     ]
    }
   ],
   "source": [
    "# add a third observation to the tuple for each target. convert the tuple to a list to add the observation\n",
    "temp_observations_list = list(tuple_of_observations)\n",
    "\n",
    "for iris_target in range(len(temp_observations_list)):\n",
    "    # add the third observation to the list that corresponds to the target\n",
    "    for observation_index in range(len(temp_observations_list[iris_target])):\n",
    "        # skip the observation if it's already in the list\n",
    "        if len(temp_observations_list[iris_target][observation_index][0]) == 2:\n",
    "            # add the third feature to the observation\n",
    "            third_feature = iris.data[np.where(iris.target == iris_target)][0][2]\n",
    "            # convert the tuple to a list to add the third feature\n",
    "            temp_observations_list[iris_target][observation_index][0] = list(temp_observations_list\n",
    "                                                                             [iris_target][observation_index][0])\n",
    "            # add the third feature to the observation\n",
    "            temp_observations_list[iris_target][observation_index][0].append(third_feature)\n",
    "\n",
    "    count = len(temp_observations_list[iris_target])\n",
    "\n",
    "    for index, current_target in enumerate(iris.target):\n",
    "        if count >= 3:\n",
    "            break\n",
    "\n",
    "        if current_target == iris_target:\n",
    "            # add the observation to the list, only including the first 2 features\n",
    "            if not any(np.allclose(iris.data[index][:2], obs[0][:2]) for obs in temp_observations_list[iris_target]):\n",
    "                temp_observations_list[iris_target].append([list(iris.data[index][:3]), current_target])\n",
    "                count += 1\n",
    "\n",
    "# convert the list back to a tuple\n",
    "tuple_of_observations = tuple(temp_observations_list)\n",
    "\n",
    "print(\"Updated tuple after adding third observation:\")\n",
    "for iris_target in range(len(tuple_of_observations)):\n",
    "    print(f\"\\nObservations for target {iris.target_names[iris_target]}:\")\n",
    "    for observation_index, observation in enumerate(tuple_of_observations[iris_target]):\n",
    "        print(f\"\\nObservation {observation_index + 1}:\")\n",
    "        for feature_index, feature_value in enumerate(observation[0]):\n",
    "            #print(f\"  • {iris.feature_names[feature_index]}: {feature_value}\")\n",
    "            if feature_index == len(dictionary_of_observations[iris_target][-1][0]) - 1:\n",
    "                print(f\"{iris.feature_names[feature_index]}: {feature_value}\")\n",
    "            else:\n",
    "                print(f\"{iris.feature_names[feature_index]}: {feature_value}\", end=\", \") "
   ]
  },
  {
   "cell_type": "markdown",
   "metadata": {},
   "source": [
    "## Printing out tuple without formatting ##"
   ]
  },
  {
   "cell_type": "code",
   "execution_count": 826,
   "metadata": {},
   "outputs": [
    {
     "name": "stdout",
     "output_type": "stream",
     "text": [
      "\n",
      "Updated tuple of observations, without organizing info:\n",
      "([[[np.float64(5.1), np.float64(3.5), np.float64(1.4)], np.int64(0)], [[np.float64(4.9), np.float64(3.0), np.float64(1.4)], np.int64(0)], [[np.float64(4.7), np.float64(3.2), np.float64(1.3)], np.int64(0)]], [[[np.float64(7.0), np.float64(3.2), np.float64(4.7)], np.int64(1)], [[np.float64(6.4), np.float64(3.2), np.float64(4.7)], np.int64(1)], [[np.float64(6.9), np.float64(3.1), np.float64(4.9)], np.int64(1)]], [[[np.float64(6.3), np.float64(3.3), np.float64(6.0)], np.int64(2)], [[np.float64(5.8), np.float64(2.7), np.float64(6.0)], np.int64(2)], [[np.float64(7.1), np.float64(3.0), np.float64(5.9)], np.int64(2)]])\n"
     ]
    }
   ],
   "source": [
    "\"\"\" print out the updated tuple of observations, without adding any additional information\n",
    "so you can see the structure of the tuple \"\"\"\n",
    "print(\"\\nUpdated tuple of observations, without organizing info:\")\n",
    "print(tuple_of_observations)"
   ]
  },
  {
   "cell_type": "markdown",
   "metadata": {},
   "source": [
    "# (d) Set\n",
    "- Define a \"set\"\" as comprehensively and accurately as you would find in a dictionary. Provide a clear and concise explanation, covering its essential meaning, characteristics, and any relevant context.\n",
    "- Create a set (1st set) in Python using the first observation of the Setosa class allowing elements to be added\n",
    "- Show the output with a print statement\n",
    "- Create another set (2nd set) by adding the second observation of the Setosa class \n",
    "- Show the output of the following operations with the 1st set and 2nd set with a print statement\n",
    "    * Difference\n",
    "    * Intersection\n",
    "    * Union"
   ]
  },
  {
   "cell_type": "markdown",
   "metadata": {},
   "source": [
    "## Sets is an unordered collection which can store multiple items in a single variable. It cannot be modified and is unindexed, It does not contain duplicate elements. ##"
   ]
  },
  {
   "cell_type": "markdown",
   "metadata": {},
   "source": [
    "## Create 2 sets ##"
   ]
  },
  {
   "cell_type": "code",
   "execution_count": 827,
   "metadata": {},
   "outputs": [
    {
     "name": "stdout",
     "output_type": "stream",
     "text": [
      "First set with first observation:\n",
      "  • sepal length (cm): 5.1\n",
      "  • sepal width (cm): 3.5\n",
      "  • petal length (cm): 1.4\n",
      "  • petal width (cm): 0.2\n",
      "\n",
      "Second set with second observation:\n",
      "  • sepal length (cm): 4.9\n",
      "  • sepal width (cm): 3.0\n",
      "  • petal length (cm): 1.4\n",
      "  • petal width (cm): 0.2\n"
     ]
    }
   ],
   "source": [
    "set_of_observations = {tuple(iris.data[0])}\n",
    "print(\"First set with first observation:\")\n",
    "for index, value in enumerate(iris.data[0]):\n",
    "    print(f\"  • {iris.feature_names[index]}: {value}\")\n",
    "\n",
    "# create a second set with the second observation\n",
    "second_set_of_observations = {tuple(iris.data[1])}\n",
    "\n",
    "print(\"\\nSecond set with second observation:\")\n",
    "for index, value in enumerate(iris.data[1]):\n",
    "    print(f\"  • {iris.feature_names[index]}: {value}\")"
   ]
  },
  {
   "cell_type": "markdown",
   "metadata": {},
   "source": [
    "## Printing results of set operations ##"
   ]
  },
  {
   "cell_type": "code",
   "execution_count": 828,
   "metadata": {},
   "outputs": [
    {
     "name": "stdout",
     "output_type": "stream",
     "text": [
      "\n",
      "Difference between the two sets:\n",
      "  • sepal length (cm): 5.1\n",
      "  • sepal width (cm): 3.5\n",
      "  • petal length (cm): 1.4\n",
      "  • petal width (cm): 0.2\n",
      "\n",
      "Intersection of the two sets:\n",
      "  • No intersection\n",
      "\n",
      "Union of the two sets:\n",
      "  • sepal length (cm): 5.1\n",
      "  • sepal width (cm): 3.5\n",
      "  • petal length (cm): 1.4\n",
      "  • petal width (cm): 0.2\n",
      "  • sepal length (cm): 4.9\n",
      "  • sepal width (cm): 3.0\n",
      "  • petal length (cm): 1.4\n",
      "  • petal width (cm): 0.2\n"
     ]
    }
   ],
   "source": [
    "# print difference between the two sets\n",
    "print(\"\\nDifference between the two sets:\")\n",
    "difference = set_of_observations.difference(second_set_of_observations)\n",
    "if len(difference) == 0:\n",
    "    print(\"  • No difference\")\n",
    "else:\n",
    "    for feature_index, value in enumerate(difference.pop()):\n",
    "        print(f\"  • {iris.feature_names[feature_index]}: {value}\")\n",
    "\n",
    "# print intersection of the two sets\n",
    "print(\"\\nIntersection of the two sets:\")\n",
    "intersection = set_of_observations.intersection(second_set_of_observations)\n",
    "if len(intersection) == 0:\n",
    "    print(\"  • No intersection\")\n",
    "else:\n",
    "    for feature_index, value in enumerate(observation):\n",
    "        print(f\"  • {iris.feature_names[feature_index]}: {value}\")\n",
    "\n",
    "# print union of the two sets\n",
    "print(\"\\nUnion of the two sets:\")\n",
    "union = set_of_observations.union(second_set_of_observations)\n",
    "for observation in union:\n",
    "    for feature_index, value in enumerate(observation):\n",
    "        print(f\"  • {iris.feature_names[feature_index]}: {value}\")"
   ]
  },
  {
   "cell_type": "markdown",
   "metadata": {},
   "source": [
    "# References\n",
    "[1] Thomas H. Cormen, Charles E. Leiserson, Ronald L. Rivest, and Clifford Stein. Introduction to\n",
    "Algorithms, Third Edition. MIT Press and McGraw-Hill, 2009. ISBN-13: 978-0-262-03384-8<br><br>\n",
    "[2] Thomas H. Cormen. The clrscode and clrscode3e packages for LaTeX2e, Retrived Jan 2010,\n",
    "http://www.cs.dartmouth.edu/ thc/clrscode/<br><br>\n",
    "[3] simpleilearn, Top 90+ Data Science Interview Questions and Answers: Basic to Technical,\n",
    "https://www.simplilearn.com/tutorials/data-science-tutorial/data-science-interview-questions<br><br>\n",
    "[4] simpleilearn, 22 Artificial Intelligence Interview Questions to Prepare,\n",
    "https://www.simplilearn.com/artificial-intelligence-ai-interview-questions-and-answers-article<br><br>\n",
    "[5] Python, Data Structures, https://docs.python.org/3/tutorial/datastructures.html"
   ]
  }
 ],
 "metadata": {
  "kernelspec": {
   "display_name": ".venv",
   "language": "python",
   "name": "python3"
  },
  "language_info": {
   "codemirror_mode": {
    "name": "ipython",
    "version": 3
   },
   "file_extension": ".py",
   "mimetype": "text/x-python",
   "name": "python",
   "nbconvert_exporter": "python",
   "pygments_lexer": "ipython3",
   "version": "3.13.0"
  },
  "orig_nbformat": 4
 },
 "nbformat": 4,
 "nbformat_minor": 2
}
