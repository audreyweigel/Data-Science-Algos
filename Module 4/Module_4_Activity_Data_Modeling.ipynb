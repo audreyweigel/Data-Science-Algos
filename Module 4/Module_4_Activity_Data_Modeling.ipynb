{
  "cells": [
    {
      "cell_type": "markdown",
      "metadata": {
        "id": "MgwbV1BufaWA"
      },
      "source": [
        "# <h3 align=\"center\">__Module 1 Activity__</h3>\n",
        "# <h3 align=\"center\">__Assigned at the start of Module 1__</h3>\n",
        "# <h3 align=\"center\">__Due at the end of Module 1__</h3><br>"
      ]
    },
    {
      "cell_type": "markdown",
      "metadata": {
        "id": "ddz7CFT5ffk7"
      },
      "source": [
        "# Weekly Discussion Forum Participation\n",
        "\n",
        "Each week, you are required to participate in the module’s discussion forum. The discussion forum consists of the week's Module Activity, which is released at the beginning of the module. You must complete/attempt the activity before you can post about the activity and anything that relates to the topic.\n",
        "\n",
        "## Grading of the Discussion\n",
        "\n",
        "### 1. Initial Post:\n",
        "Create your thread by **Day 5 (Saturday night at midnight, PST).**\n",
        "\n",
        "### 2. Responses:\n",
        "Respond to at least two other posts by **Day 7 (Monday night at midnight, PST).**\n",
        "\n",
        "---\n",
        "\n",
        "## Grading Criteria:\n",
        "\n",
        "Your participation will be graded as follows:\n",
        "\n",
        "### Full Credit (100 points):\n",
        "- Submit your initial post by **Day 5.**\n",
        "- Respond to at least two other posts by **Day 7.**\n",
        "\n",
        "### Half Credit (50 points):\n",
        "- If your initial post is late but you respond to two other posts.\n",
        "- If your initial post is on time but you fail to respond to at least two other posts.\n",
        "\n",
        "### No Credit (0 points):\n",
        "- If both your initial post and responses are late.\n",
        "- If you fail to submit an initial post and do not respond to any others.\n",
        "\n",
        "---\n",
        "\n",
        "## Additional Notes:\n",
        "\n",
        "- **Late Initial Posts:** Late posts will automatically receive half credit if two responses are completed on time.\n",
        "- **Substance Matters:** Responses must be thoughtful and constructive. Comments like “Great post!” or “I agree!” without further explanation will not earn credit.\n",
        "- **Balance Participation:** Aim to engage with threads that have fewer or no responses to ensure a balanced discussion.\n",
        "\n",
        "---\n",
        "\n",
        "## Avoid:\n",
        "- A number of posts within a very short time-frame, especially immediately prior to the posting deadline.\n",
        "- Posts that complement another post, and then consist of a summary of that.\n"
      ]
    },
    {
      "cell_type": "markdown",
      "metadata": {
        "id": "GCqaZs0nf1Cr"
      },
      "source": [
        "# Data Modeling Activity\n",
        "\n",
        "## Objective\n",
        "Familiarize yourself with key data modeling concepts (classification, regression, and clustering) by analyzing a dataset and discussing how different modeling approaches apply.\n",
        "\n",
        "---\n",
        "\n",
        "## Instructions\n",
        "\n",
        "### 1. Find a Dataset\n",
        "Use the `kagglehub` library to download a dataset from Kaggle. Ensure that you have set up the library with your Kaggle API key. An example of how to do this is provided below:\n",
        "\n",
        "```python\n",
        "# Install kagglehub if not already installed\n",
        "# !pip install kagglehub\n",
        "\n",
        "import kagglehub as kh\n",
        "\n",
        "# Example: Downloading a dataset\n",
        "# Replace 'dataset-owner/dataset-name' with the Kaggle dataset identifier\n",
        "kh.download('dataset-owner/dataset-name', path='./datasets')\n",
        "\n",
        "# Load the dataset\n",
        "import pandas as pd\n",
        "data = pd.read_csv(\"./datasets/your_dataset.csv\")\n",
        "\n",
        "# Display the first few rows of the dataset\n",
        "data.head()\n",
        "\n",
        "# Basic dataset summary\n",
        "data.info()\n",
        "data.describe()\n",
        "```"
      ]
    },
    {
      "cell_type": "markdown",
      "metadata": {},
      "source": [
        "# 1. Implementation"
      ]
    },
    {
      "cell_type": "code",
      "execution_count": 76,
      "metadata": {},
      "outputs": [
        {
          "name": "stdout",
          "output_type": "stream",
          "text": [
            "Dataset URL: https://www.kaggle.com/datasets/solomonameh/spotify-music-dataset\n",
            "License(s): DbCL-1.0\n",
            "Downloading spotify-music-dataset.zip to ./datasets\n",
            "100%|████████████████████████████████████████| 573k/573k [00:00<00:00, 1.25MB/s]\n",
            "100%|████████████████████████████████████████| 573k/573k [00:00<00:00, 1.24MB/s]\n"
          ]
        }
      ],
      "source": [
        "import pandas as pd\n",
        "import os\n",
        "\n",
        "# setup api credentials\n",
        "os.environ['KAGGLE_USERNAME'] = 'audreyweigel'\n",
        "os.environ['KAGGLE_KEY'] = '67109941cfd7a442d87469c0ce97c0dd'\n",
        "\n",
        "# create datasets directory\n",
        "if not os.path.exists('./datasets'):\n",
        "\tos.makedirs('./datasets')\n",
        "\n",
        "# download the dataset\n",
        "!kaggle datasets download -d solomonameh/spotify-music-dataset -p ./datasets --unzip\n",
        "\n",
        "# load the high popularity dataset\n",
        "high_popularity = pd.read_csv(\"./datasets/high_popularity_spotify_data.csv\")\n",
        "\n",
        "# load the low popularity dataset\n",
        "low_popularity = pd.read_csv(\"./datasets/low_popularity_spotify_data.csv\") "
      ]
    },
    {
      "cell_type": "code",
      "execution_count": 77,
      "metadata": {},
      "outputs": [
        {
          "name": "stdout",
          "output_type": "stream",
          "text": [
            "High Popularity Songs:\n",
            "   energy    tempo  danceability playlist_genre  loudness  liveness  valence  \\\n",
            "0   0.592  157.969         0.521            pop    -7.777     0.122    0.535   \n",
            "1   0.507  104.978         0.747            pop   -10.171     0.117    0.438   \n",
            "2   0.808  108.548         0.554            pop    -4.169     0.159    0.372   \n",
            "3   0.910  112.966         0.670            pop    -4.070     0.304    0.786   \n",
            "4   0.783  149.027         0.777            pop    -4.477     0.355    0.939   \n",
            "\n",
            "            track_artist  time_signature  speechiness  ...  instrumentalness  \\\n",
            "0  Lady Gaga, Bruno Mars               3       0.0304  ...            0.0000   \n",
            "1          Billie Eilish               4       0.0358  ...            0.0608   \n",
            "2          Gracie Abrams               4       0.0368  ...            0.0000   \n",
            "3      Sabrina Carpenter               4       0.0634  ...            0.0000   \n",
            "4       ROSÉ, Bruno Mars               4       0.2600  ...            0.0000   \n",
            "\n",
            "           track_album_id mode key duration_ms acousticness  \\\n",
            "0  10FLjwfpbxLmW8c25Xyc2N    0   6      251668       0.3080   \n",
            "1  7aJuG4TFXa2hmE4z1yxc3n    1   2      210373       0.2000   \n",
            "2  0hBRqPYPXhr1RkTDG3n4Mk    1   1      166300       0.2140   \n",
            "3  4B4Elma4nNDUyl6D5PvQkj    0   0      157280       0.0939   \n",
            "4  2IYQwwgxgOIn7t3iF6ufFD    0   0      169917       0.0283   \n",
            "\n",
            "                       id playlist_subgenre            type  \\\n",
            "0  2plbrEY59IikOBgBGLjaoe        mainstream  audio_features   \n",
            "1  6dOtVTDdiauQNBQEDOtlAB        mainstream  audio_features   \n",
            "2  7ne4VBA60CxGM75vw0EYad        mainstream  audio_features   \n",
            "3  1d7Ptw3qYcfpdLNL5REhtJ        mainstream  audio_features   \n",
            "4  5vNRhkKd0yEAg8suGBpjeY        mainstream  audio_features   \n",
            "\n",
            "              playlist_id  \n",
            "0  37i9dQZF1DXcBWIGoYBM5M  \n",
            "1  37i9dQZF1DXcBWIGoYBM5M  \n",
            "2  37i9dQZF1DXcBWIGoYBM5M  \n",
            "3  37i9dQZF1DXcBWIGoYBM5M  \n",
            "4  37i9dQZF1DXcBWIGoYBM5M  \n",
            "\n",
            "[5 rows x 29 columns]\n"
          ]
        }
      ],
      "source": [
        "# display the first few rows of the high popularity dataset\n",
        "print(\"High Popularity Songs:\")\n",
        "print(high_popularity.head())"
      ]
    },
    {
      "cell_type": "code",
      "execution_count": 78,
      "metadata": {},
      "outputs": [
        {
          "name": "stdout",
          "output_type": "stream",
          "text": [
            "\n",
            "Low Popularity Songs:\n",
            "   time_signature  track_popularity  speechiness  danceability  playlist_name  \\\n",
            "0             4.0                23       0.0393         0.636  Rock Classics   \n",
            "1             4.0                53       0.0317         0.572  Rock Classics   \n",
            "2             4.0                55       0.0454         0.591  Rock Classics   \n",
            "3             4.0                64       0.1010         0.443  Jazz Classics   \n",
            "4             4.0                62       0.0298         0.685  Jazz Classics   \n",
            "\n",
            "                       track_artist  duration_ms  energy playlist_genre  \\\n",
            "0      Creedence Clearwater Revival     138053.0   0.746           rock   \n",
            "1                         Van Halen     241600.0   0.835           rock   \n",
            "2                      Stevie Nicks     329413.0   0.804           rock   \n",
            "3  Ella Fitzgerald, Louis Armstrong     185160.0   0.104           jazz   \n",
            "4                    Galt MacDermot     205720.0   0.472           jazz   \n",
            "\n",
            "  playlist_subgenre  ...          track_album_id             playlist_id  \\\n",
            "0           classic  ...  4A8gFwqd9jTtnsNwUu3OQx  37i9dQZF1DWXRqgorJj26U   \n",
            "1           classic  ...  2c965LEDRNrXXCeBOAAwns  37i9dQZF1DWXRqgorJj26U   \n",
            "2           classic  ...  3S404OgKoVQSJ3xXrDVlp8  37i9dQZF1DWXRqgorJj26U   \n",
            "3           classic  ...  1y5KGkUKO0NG32MhIIagCA  37i9dQZF1DXbITWG1ZJKYt   \n",
            "4           classic  ...  6f4b9wVTkKAf096k4XG6x5  37i9dQZF1DXbITWG1ZJKYt   \n",
            "\n",
            "                 track_id valence  key    tempo loudness acousticness  \\\n",
            "0  5e6x5YRnMJIKvYpZxLqdpH   0.432  0.0  132.310   -3.785       0.0648   \n",
            "1  5FqYA8KfiwsQvyBI4IamnY   0.795  0.0  129.981   -6.219       0.1710   \n",
            "2  5LNiqEqpDc8TuqPy79kDBu   0.658  0.0  111.457   -7.299       0.3270   \n",
            "3  78MI7mu1LV1k4IA2HzKmHe   0.394  0.0   76.474  -17.042       0.9130   \n",
            "4  6MN6yRVriszuyAVlyF8ndB   0.475  9.0   80.487   -9.691       0.7850   \n",
            "\n",
            "   liveness                                   track_album_name  \n",
            "0    0.1730  The Long Road Home - The Ultimate John Fogerty...  \n",
            "1    0.0702                                     The Collection  \n",
            "2    0.0818                       Bella Donna (Deluxe Edition)  \n",
            "3    0.1910                                         Love, Ella  \n",
            "4    0.2240                  Shapes of Rhythm/Woman Is Sweeter  \n",
            "\n",
            "[5 rows x 29 columns]\n"
          ]
        }
      ],
      "source": [
        "# do the same for the low popularity dataset\n",
        "print(\"\\nLow Popularity Songs:\")\n",
        "print(low_popularity.head()) "
      ]
    },
    {
      "cell_type": "markdown",
      "metadata": {},
      "source": [
        "\n",
        "---\n",
        "\n",
        "### 2. Dataset Exploration\n",
        "Answer the following questions about your dataset:\n",
        "1. What types of features are present (numerical, categorical, etc.)?\n",
        "2. Are there any missing values or data quality issues?\n",
        "3. What potential problems can this dataset solve? Identify tasks for classification, regression, and clustering.\n",
        "\n",
        "Add your answers in the markdown cell below.\n"
      ]
    },
    {
      "cell_type": "markdown",
      "metadata": {},
      "source": [
        "### 1. Types of features present"
      ]
    },
    {
      "cell_type": "code",
      "execution_count": 79,
      "metadata": {},
      "outputs": [
        {
          "name": "stdout",
          "output_type": "stream",
          "text": [
            "\n",
            "High Popularity Songs Info:\n",
            "<class 'pandas.core.frame.DataFrame'>\n",
            "RangeIndex: 1686 entries, 0 to 1685\n",
            "Data columns (total 29 columns):\n",
            " #   Column                    Non-Null Count  Dtype  \n",
            "---  ------                    --------------  -----  \n",
            " 0   energy                    1686 non-null   float64\n",
            " 1   tempo                     1686 non-null   float64\n",
            " 2   danceability              1686 non-null   float64\n",
            " 3   playlist_genre            1686 non-null   object \n",
            " 4   loudness                  1686 non-null   float64\n",
            " 5   liveness                  1686 non-null   float64\n",
            " 6   valence                   1686 non-null   float64\n",
            " 7   track_artist              1686 non-null   object \n",
            " 8   time_signature            1686 non-null   int64  \n",
            " 9   speechiness               1686 non-null   float64\n",
            " 10  track_popularity          1686 non-null   int64  \n",
            " 11  track_href                1686 non-null   object \n",
            " 12  uri                       1686 non-null   object \n",
            " 13  track_album_name          1685 non-null   object \n",
            " 14  playlist_name             1686 non-null   object \n",
            " 15  analysis_url              1686 non-null   object \n",
            " 16  track_id                  1686 non-null   object \n",
            " 17  track_name                1686 non-null   object \n",
            " 18  track_album_release_date  1686 non-null   object \n",
            " 19  instrumentalness          1686 non-null   float64\n",
            " 20  track_album_id            1686 non-null   object \n",
            " 21  mode                      1686 non-null   int64  \n",
            " 22  key                       1686 non-null   int64  \n",
            " 23  duration_ms               1686 non-null   int64  \n",
            " 24  acousticness              1686 non-null   float64\n",
            " 25  id                        1686 non-null   object \n",
            " 26  playlist_subgenre         1686 non-null   object \n",
            " 27  type                      1686 non-null   object \n",
            " 28  playlist_id               1686 non-null   object \n",
            "dtypes: float64(9), int64(5), object(15)\n",
            "memory usage: 382.1+ KB\n"
          ]
        }
      ],
      "source": [
        "# display the info (data types, non-null values, etc.) for the high popularity dataset\n",
        "print(\"\\nHigh Popularity Songs Info:\")\n",
        "high_popularity.info()"
      ]
    },
    {
      "cell_type": "code",
      "execution_count": 80,
      "metadata": {},
      "outputs": [
        {
          "name": "stdout",
          "output_type": "stream",
          "text": [
            "\n",
            "Low Popularity Songs Info:\n",
            "<class 'pandas.core.frame.DataFrame'>\n",
            "RangeIndex: 3145 entries, 0 to 3144\n",
            "Data columns (total 29 columns):\n",
            " #   Column                    Non-Null Count  Dtype  \n",
            "---  ------                    --------------  -----  \n",
            " 0   time_signature            3144 non-null   float64\n",
            " 1   track_popularity          3145 non-null   int64  \n",
            " 2   speechiness               3144 non-null   float64\n",
            " 3   danceability              3144 non-null   float64\n",
            " 4   playlist_name             3145 non-null   object \n",
            " 5   track_artist              3145 non-null   object \n",
            " 6   duration_ms               3144 non-null   float64\n",
            " 7   energy                    3144 non-null   float64\n",
            " 8   playlist_genre            3145 non-null   object \n",
            " 9   playlist_subgenre         3145 non-null   object \n",
            " 10  track_href                3144 non-null   object \n",
            " 11  track_name                3145 non-null   object \n",
            " 12  mode                      3144 non-null   float64\n",
            " 13  uri                       3144 non-null   object \n",
            " 14  type                      3144 non-null   object \n",
            " 15  track_album_release_date  3145 non-null   object \n",
            " 16  analysis_url              3144 non-null   object \n",
            " 17  id                        3144 non-null   object \n",
            " 18  instrumentalness          3144 non-null   float64\n",
            " 19  track_album_id            3145 non-null   object \n",
            " 20  playlist_id               3145 non-null   object \n",
            " 21  track_id                  3145 non-null   object \n",
            " 22  valence                   3144 non-null   float64\n",
            " 23  key                       3144 non-null   float64\n",
            " 24  tempo                     3144 non-null   float64\n",
            " 25  loudness                  3144 non-null   float64\n",
            " 26  acousticness              3144 non-null   float64\n",
            " 27  liveness                  3144 non-null   float64\n",
            " 28  track_album_name          3145 non-null   object \n",
            "dtypes: float64(13), int64(1), object(15)\n",
            "memory usage: 712.7+ KB\n"
          ]
        }
      ],
      "source": [
        "print(\"\\nLow Popularity Songs Info:\")\n",
        "low_popularity.info() "
      ]
    },
    {
      "cell_type": "markdown",
      "metadata": {},
      "source": [
        "There are both numerical and categorical features. \n",
        "- The numerical features are the audio characteristics (energy, tempo, danceability, loudness, liveness, valence, speechiness, instrumentalness, acousticness), the track_popularity metric, the duration of the track (duration_ms), and different aspects of the songs (key, mode, time_signature).\n",
        "- The categorical features are mostly related to the album names and general information about the playlists. Specifically related to the playlist (playlist genre, subgenre, the playlist name, playlist id). For the tracks themselves, their identifiers (track artist, the album name of the track, the id of the track, its album id, its album release date). Other random identifiers that are categorical are uri, the analysis url, the track href and type."
      ]
    },
    {
      "cell_type": "markdown",
      "metadata": {},
      "source": [
        "## 2. Data quality issues"
      ]
    },
    {
      "cell_type": "code",
      "execution_count": 81,
      "metadata": {},
      "outputs": [
        {
          "name": "stdout",
          "output_type": "stream",
          "text": [
            "\n",
            "High Popularity Songs Missing Values:\n",
            "energy                      0\n",
            "tempo                       0\n",
            "danceability                0\n",
            "playlist_genre              0\n",
            "loudness                    0\n",
            "liveness                    0\n",
            "valence                     0\n",
            "track_artist                0\n",
            "time_signature              0\n",
            "speechiness                 0\n",
            "track_popularity            0\n",
            "track_href                  0\n",
            "uri                         0\n",
            "track_album_name            1\n",
            "playlist_name               0\n",
            "analysis_url                0\n",
            "track_id                    0\n",
            "track_name                  0\n",
            "track_album_release_date    0\n",
            "instrumentalness            0\n",
            "track_album_id              0\n",
            "mode                        0\n",
            "key                         0\n",
            "duration_ms                 0\n",
            "acousticness                0\n",
            "id                          0\n",
            "playlist_subgenre           0\n",
            "type                        0\n",
            "playlist_id                 0\n",
            "dtype: int64\n"
          ]
        }
      ],
      "source": [
        "# display the number of missing values in each column for the high popularity dataset\n",
        "print(\"\\nHigh Popularity Songs Missing Values:\")\n",
        "print(high_popularity.isnull().sum())"
      ]
    },
    {
      "cell_type": "code",
      "execution_count": 82,
      "metadata": {},
      "outputs": [
        {
          "name": "stdout",
          "output_type": "stream",
          "text": [
            "\n",
            "Low Popularity Songs Missing Values:\n",
            "time_signature              1\n",
            "track_popularity            0\n",
            "speechiness                 1\n",
            "danceability                1\n",
            "playlist_name               0\n",
            "track_artist                0\n",
            "duration_ms                 1\n",
            "energy                      1\n",
            "playlist_genre              0\n",
            "playlist_subgenre           0\n",
            "track_href                  1\n",
            "track_name                  0\n",
            "mode                        1\n",
            "uri                         1\n",
            "type                        1\n",
            "track_album_release_date    0\n",
            "analysis_url                1\n",
            "id                          1\n",
            "instrumentalness            1\n",
            "track_album_id              0\n",
            "playlist_id                 0\n",
            "track_id                    0\n",
            "valence                     1\n",
            "key                         1\n",
            "tempo                       1\n",
            "loudness                    1\n",
            "acousticness                1\n",
            "liveness                    1\n",
            "track_album_name            0\n",
            "dtype: int64\n"
          ]
        }
      ],
      "source": [
        "print(\"\\nLow Popularity Songs Missing Values:\")\n",
        "print(low_popularity.isnull().sum())"
      ]
    },
    {
      "cell_type": "markdown",
      "metadata": {},
      "source": [
        "# Missing Values\n",
        "There is one missing value in the track album name column within the high popularity dataset. Low popularity is missing more values across 15 columns, but none of them exceed more than one missing value by column."
      ]
    },
    {
      "cell_type": "code",
      "execution_count": 83,
      "metadata": {},
      "outputs": [
        {
          "name": "stdout",
          "output_type": "stream",
          "text": [
            "\n",
            "High Popularity Songs Description:\n",
            "            energy        tempo  danceability     loudness     liveness  \\\n",
            "count  1686.000000  1686.000000   1686.000000  1686.000000  1686.000000   \n",
            "mean      0.667216   121.070938      0.650362    -6.704131     0.171579   \n",
            "std       0.184908    27.066029      0.157721     3.377068     0.123953   \n",
            "min       0.001610    49.305000      0.136000   -43.643000     0.021000   \n",
            "25%       0.551000   100.058750      0.543250    -7.950250     0.093400   \n",
            "50%       0.689000   120.001000      0.664500    -5.974500     0.121000   \n",
            "75%       0.807000   136.833500      0.769000    -4.687250     0.210000   \n",
            "max       0.990000   209.688000      0.979000     1.295000     0.950000   \n",
            "\n",
            "           valence  time_signature  speechiness  track_popularity  \\\n",
            "count  1686.000000     1686.000000  1686.000000       1686.000000   \n",
            "mean      0.525737        3.950178     0.100926         75.806050   \n",
            "std       0.236113        0.326673     0.099748          6.032532   \n",
            "min       0.034800        1.000000     0.023200         68.000000   \n",
            "25%       0.339000        4.000000     0.037900         71.000000   \n",
            "50%       0.528000        4.000000     0.058100         75.000000   \n",
            "75%       0.720000        4.000000     0.118000         79.000000   \n",
            "max       0.978000        5.000000     0.848000        100.000000   \n",
            "\n",
            "       instrumentalness         mode          key    duration_ms  acousticness  \n",
            "count       1686.000000  1686.000000  1686.000000    1686.000000   1686.000000  \n",
            "mean           0.041520     0.578292     5.338078  214562.125741      0.221220  \n",
            "std            0.156556     0.493979     3.608208   58310.747929      0.250593  \n",
            "min            0.000000     0.000000     0.000000   61673.000000      0.000013  \n",
            "25%            0.000000     0.000000     2.000000  176607.750000      0.023050  \n",
            "50%            0.000006     1.000000     5.000000  211180.000000      0.124000  \n",
            "75%            0.000814     1.000000     8.000000  244993.250000      0.334750  \n",
            "max            0.971000     1.000000    11.000000  547107.000000      0.995000  \n"
          ]
        }
      ],
      "source": [
        "# display the summary statistics for the high popularity dataset\n",
        "print(\"\\nHigh Popularity Songs Description:\")\n",
        "print(high_popularity.describe())"
      ]
    },
    {
      "cell_type": "code",
      "execution_count": 84,
      "metadata": {},
      "outputs": [
        {
          "name": "stdout",
          "output_type": "stream",
          "text": [
            "\n",
            "Low Popularity Songs Description:\n",
            "       time_signature  track_popularity  speechiness  danceability  \\\n",
            "count     3144.000000       3145.000000  3144.000000   3144.000000   \n",
            "mean         3.929389         43.479173     0.102174      0.607268   \n",
            "std          0.447827         14.821766     0.101726      0.200372   \n",
            "min          1.000000         11.000000     0.021900      0.058900   \n",
            "25%          4.000000         32.000000     0.038800      0.509000   \n",
            "50%          4.000000         46.000000     0.055000      0.649500   \n",
            "75%          4.000000         55.000000     0.118000      0.753000   \n",
            "max          5.000000         68.000000     0.927000      0.977000   \n",
            "\n",
            "        duration_ms       energy         mode  instrumentalness      valence  \\\n",
            "count  3.144000e+03  3144.000000  3144.000000       3144.000000  3144.000000   \n",
            "mean   2.016402e+05     0.543509     0.553435          0.286603     0.458438   \n",
            "std    9.157390e+04     0.263635     0.497216          0.395181     0.266140   \n",
            "min    3.537500e+04     0.000202     0.000000          0.000000     0.029600   \n",
            "25%    1.518962e+05     0.357750     0.000000          0.000000     0.232000   \n",
            "50%    1.846410e+05     0.592000     1.000000          0.001060     0.462000   \n",
            "75%    2.264302e+05     0.747000     1.000000          0.788000     0.673000   \n",
            "max    1.355260e+06     0.998000     1.000000          0.991000     0.987000   \n",
            "\n",
            "               key        tempo     loudness  acousticness     liveness  \n",
            "count  3144.000000  3144.000000  3144.000000   3144.000000  3144.000000  \n",
            "mean      5.177163   116.766884   -10.663833      0.405567     0.165487  \n",
            "std       3.565412    29.152400     8.155066      0.342249     0.124652  \n",
            "min       0.000000    48.232000   -48.069000      0.000004     0.022000  \n",
            "25%       2.000000    94.889250   -11.999750      0.084100     0.096400  \n",
            "50%       5.000000   116.052000    -8.026000      0.316000     0.116000  \n",
            "75%       8.000000   136.706500    -5.831000      0.725250     0.189000  \n",
            "max      11.000000   241.426000     1.318000      0.996000     0.979000  \n"
          ]
        }
      ],
      "source": [
        "print(\"\\nLow Popularity Songs Description:\")\n",
        "print(low_popularity.describe()) "
      ]
    },
    {
      "cell_type": "markdown",
      "metadata": {},
      "source": [
        "There are some extreme values in loudness. Instrumentalness does not exceed 1.0, which seems incorrect because this implies that these songs do not have instruments in them. It's hard to maintain consistency with the categorical values since a lot of them are unique values."
      ]
    },
    {
      "cell_type": "markdown",
      "metadata": {},
      "source": [
        "## 3. Problems that can be solved\n",
        "- Classification: Predict a song's popularity (high/low)\n",
        "- Regression: Predict the exact popularity of a track\n",
        "- Clustering: Group songs into categories based on musical qualities they have"
      ]
    },
    {
      "cell_type": "markdown",
      "metadata": {},
      "source": [
        "---\n",
        "\n",
        "### 3. Tasks\n",
        "\n",
        "#### **Classification**\n",
        "- Define a classification problem in the dataset (e.g., predicting if a customer will churn).\n",
        "- Optionally, implement a simple logistic regression or decision tree model.\n",
        "\n",
        "```python\n",
        "from sklearn.model_selection import train_test_split\n",
        "from sklearn.linear_model import LogisticRegression\n",
        "from sklearn.metrics import accuracy_score, classification_report\n",
        "\n",
        "# Replace 'target' with your target column name\n",
        "X = data.drop(columns=[\"target\"])\n",
        "y = data[\"target\"]\n",
        "\n",
        "# Split the dataset into training and test sets\n",
        "X_train, X_test, y_train, y_test = train_test_split(X, y, test_size=0.2, random_state=42)\n",
        "\n",
        "# Train a logistic regression model\n",
        "model = LogisticRegression()\n",
        "model.fit(X_train, y_train)\n",
        "\n",
        "# Make predictions and evaluate the model\n",
        "y_pred = model.predict(X_test)\n",
        "print(\"Accuracy:\", accuracy_score(y_test, y_pred))\n",
        "print(\"Classification Report:\\n\", classification_report(y_test, y_pred))\n",
        "```\n",
        "\n",
        "#### **Regression**\n",
        "- Define a regression problem in the dataset (e.g., predicting house prices).\n",
        "- Optionally, implement a simple linear regression model.\n",
        "\n",
        "```python\n",
        "from sklearn.linear_model import LinearRegression\n",
        "from sklearn.metrics import mean_squared_error, r2_score\n",
        "\n",
        "# Replace 'target' with your target column name\n",
        "X = data.drop(columns=[\"target\"])\n",
        "y = data[\"target\"]\n",
        "\n",
        "# Split the dataset into training and test sets\n",
        "X_train, X_test, y_train, y_test = train_test_split(X, y, test_size=0.2, random_state=42)\n",
        "\n",
        "# Train a linear regression model\n",
        "model = LinearRegression()\n",
        "model.fit(X_train, y_train)\n",
        "\n",
        "# Make predictions and evaluate the model\n",
        "y_pred = model.predict(X_test)\n",
        "print(\"Mean Squared Error:\", mean_squared_error(y_test, y_pred))\n",
        "print(\"R-squared Score:\", r2_score(y_test, y_pred))\n",
        "```\n",
        "\n",
        "#### **Clustering**\n",
        "- Define how clustering might reveal patterns in your dataset.\n",
        "- Optionally, implement a simple k-means clustering algorithm.\n",
        "\n",
        "```python\n",
        "from sklearn.cluster import KMeans\n",
        "import matplotlib.pyplot as plt\n",
        "\n",
        "# Use only numerical features for clustering\n",
        "X = data.select_dtypes(include=['float64', 'int64'])\n",
        "\n",
        "# Train a k-means model\n",
        "kmeans = KMeans(n_clusters=3, random_state=42)\n",
        "kmeans.fit(X)\n",
        "\n",
        "# Add cluster labels to the dataset\n",
        "data[\"Cluster\"] = kmeans.labels_\n",
        "\n",
        "# Visualize the clusters (for two features, if applicable)\n",
        "plt.scatter(X.iloc[:, 0], X.iloc[:, 1], c=data[\"Cluster\"], cmap=\"viridis\")\n",
        "plt.xlabel(\"Feature 1\")\n",
        "plt.ylabel(\"Feature 2\")\n",
        "plt.title(\"Clustering Visualization\")\n",
        "plt.show()\n",
        "```"
      ]
    },
    {
      "cell_type": "markdown",
      "metadata": {},
      "source": [
        "### 4. Reflection and Discussion\n",
        "- How does the choice of supervised or unsupervised learning depend on the dataset and problem?\n",
        "- What challenges did you anticipate when applying each modeling technique?\n",
        "\n",
        "Add your reflections below."
      ]
    },
    {
      "cell_type": "markdown",
      "metadata": {},
      "source": [
        "- It depends on the dataset and problem, since some datasets use supervised because their data is labeled and other use unsupervised because it's not. Supervised is better for classification and regression problems, since these are based on predicting outcomes for information you already have. Unsupervised is better for clustering problems, since the dataset isn't clearly labelled and patterns can be seen without knowing how they are segmented. It helps you find information you didn't have before.\n",
        "- 1. Classification: Some columns are categorical and are hard to organize for that reason.\n",
        "  2. Regression: There are extreme values in some columns (i.e. loudness) that could impact how predictions are done.\n",
        "  3. Clustering: Sometimes it's hard to understand how to organize clusters or what they mean."
      ]
    },
    {
      "cell_type": "markdown",
      "metadata": {},
      "source": [
        "## Deliverables\n",
        "1. A short description of your dataset and the problems you identified.\n",
        "2. Code and results for any implemented models (classification, regression, clustering).\n",
        "3. A brief reflection on the activity."
      ]
    }
  ],
  "metadata": {
    "colab": {
      "provenance": []
    },
    "kernelspec": {
      "display_name": ".venv",
      "language": "python",
      "name": "python3"
    },
    "language_info": {
      "codemirror_mode": {
        "name": "ipython",
        "version": 3
      },
      "file_extension": ".py",
      "mimetype": "text/x-python",
      "name": "python",
      "nbconvert_exporter": "python",
      "pygments_lexer": "ipython3",
      "version": "3.13.1"
    }
  },
  "nbformat": 4,
  "nbformat_minor": 0
}
