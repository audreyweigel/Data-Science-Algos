{
 "cells": [
  {
   "cell_type": "markdown",
   "metadata": {},
   "source": [
    "# <h3 align=\"center\">__Module 2 Activity__</h3>\n",
    "# <h3 align=\"center\">__Assigned at the start of Module 2__</h3>\n",
    "# <h3 align=\"center\">__Due at the end of Module 2__</h3><br>\n",
    "\n"
   ]
  },
  {
   "cell_type": "markdown",
   "metadata": {},
   "source": [
    "# Weekly Discussion Forum Participation\n",
    "\n",
    "Each week, you are required to participate in the module’s discussion forum. The discussion forum consists of the week's Module Activity, which is released at the beginning of the module. You must complete/attempt the activity before you can post about the activity and anything that relates to the topic. \n",
    "\n",
    "## Grading of the Discussion\n",
    "\n",
    "### 1. Initial Post:\n",
    "Create your thread by **Day 5 (Saturday night at midnight, PST).**\n",
    "\n",
    "### 2. Responses:\n",
    "Respond to at least two other posts by **Day 7 (Monday night at midnight, PST).**\n",
    "\n",
    "---\n",
    "\n",
    "## Grading Criteria:\n",
    "\n",
    "Your participation will be graded as follows:\n",
    "\n",
    "### Full Credit (100 points):\n",
    "- Submit your initial post by **Day 5.**\n",
    "- Respond to at least two other posts by **Day 7.**\n",
    "\n",
    "### Half Credit (50 points):\n",
    "- If your initial post is late but you respond to two other posts.\n",
    "- If your initial post is on time but you fail to respond to at least two other posts.\n",
    "\n",
    "### No Credit (0 points):\n",
    "- If both your initial post and responses are late.\n",
    "- If you fail to submit an initial post and do not respond to any others.\n",
    "\n",
    "---\n",
    "\n",
    "## Additional Notes:\n",
    "\n",
    "- **Late Initial Posts:** Late posts will automatically receive half credit if two responses are completed on time.\n",
    "- **Substance Matters:** Responses must be thoughtful and constructive. Comments like “Great post!” or “I agree!” without further explanation will not earn credit.\n",
    "- **Balance Participation:** Aim to engage with threads that have fewer or no responses to ensure a balanced discussion.\n",
    "\n",
    "---\n",
    "\n",
    "## Avoid:\n",
    "- A number of posts within a very short time-frame, especially immediately prior to the posting deadline.\n",
    "- Posts that complement another post, and then consist of a summary of that.\n"
   ]
  },
  {
   "cell_type": "markdown",
   "metadata": {},
   "source": [
    "# __1. Module 2__<br>\n",
    "\n",
    "A covariance matrix is a square matrix that captures the pairwise covariance between multiple variables in a dataset. Each element $C[i,j]$ represents the covariance between the $i$-th and $j$-th variables. Diagonal elements represent variances of individual variables.\n",
    "\n",
    "Why is it Important?\n",
    "\n",
    "* Multivariate Relationships: It helps understand how variables move together (positive/negative correlation).\n",
    "* Dimensionality Reduction: It's the foundation of techniques like Principal Component Analysis (PCA).\n",
    "* Data Representation: Useful for understanding the structure of multivariate data in fields like finance, image processing, and machine learning."
   ]
  },
  {
   "cell_type": "markdown",
   "metadata": {},
   "source": [
    "The Mathematical Definition is:\n",
    "\n",
    "$$Cov(X,Y) = \\frac{\\sum_{i=1}^{n}(X_i-\\bar{X})(Y_i-\\bar{Y})}{n-1}"
   ]
  },
  {
   "cell_type": "markdown",
   "metadata": {},
   "source": [
    "The matrix representation is: \n",
    "\n",
    "\\begin{bmatrix}\n",
    "\\text{Cov}(X_1, X_1) & \\text{Cov}(X_1, X_2) & \\dots & \\text{Cov}(X_1, X_n) \\\\\n",
    "\\text{Cov}(X_2, X_1) & \\text{Cov}(X_2, X_2) & \\dots & \\text{Cov}(X_2, X_n) \\\\\n",
    "\\vdots & \\vdots & \\ddots & \\vdots \\\\\n",
    "\\text{Cov}(X_n, X_1) & \\text{Cov}(X_n, X_2) & \\dots & \\text{Cov}(X_n, X_n)\n",
    "\\end{bmatrix}\n"
   ]
  },
  {
   "cell_type": "markdown",
   "metadata": {},
   "source": [
    "### Without using any Python packages like `numpy` or `pandas`, write a function to calculate the covariance matrix for a given dataset. "
   ]
  },
  {
   "cell_type": "code",
   "execution_count": 170,
   "metadata": {},
   "outputs": [],
   "source": [
    "def compute_covariance_matrix(data):\n",
    "    \"\"\"\n",
    "    Compute the covariance matrix for a given dataset.\n",
    "    Input: data - A 2D list where each inner list is a variable (e.g., [[X], [Y]])\n",
    "    Output: Covariance matrix as a 2D list\n",
    "    \"\"\"\n",
    "    # Get the mean of each feature\n",
    "    # Formula: mean = sum(x) / count(x)\n",
    "    feature_means = [sum(feature) / len(feature) for feature in data]\n",
    "    \n",
    "    # get the number of data points (n) and the number of features (d)\n",
    "    num_samples = len(data[0])\n",
    "    num_features = len(data)\n",
    "\n",
    "    # initialize the covariance matrix (d x d) with zeros\n",
    "    covariance_matrix = [[0] * num_features for i in range(num_features)]\n",
    "\n",
    "    # iterate over the number of features (x and y) in the dataset\n",
    "    for feature_x_index in range(num_features):\n",
    "        # calculate variance for each feature dynamically\n",
    "        for feature_y_index in range(num_features):\n",
    "            \n",
    "            covariance_sum = 0\n",
    "            \n",
    "            # iterate over the number of samples to calculate product of deviations\n",
    "            for sample_index in range(num_samples):\n",
    "                covariance_sum += (\n",
    "                    # Formula: (x - mean(x)) * (y - mean(y))\n",
    "                    (data[feature_x_index][sample_index] - feature_means[feature_x_index]) * \n",
    "                    (data[feature_y_index][sample_index] - feature_means[feature_y_index])\n",
    "                )\n",
    "            \n",
    "            # store and normalize the covariance value by dividing by (n - 1)\n",
    "            covariance_matrix[feature_x_index][feature_y_index] = covariance_sum / (num_samples - 1)\n",
    "\n",
    "    return covariance_matrix"
   ]
  },
  {
   "cell_type": "markdown",
   "metadata": {},
   "source": [
    "### Use your new covariance matrix function to compute the covariance matrix of the first 5 rows of the iris dataset. "
   ]
  },
  {
   "cell_type": "code",
   "execution_count": 171,
   "metadata": {},
   "outputs": [
    {
     "name": "stdout",
     "output_type": "stream",
     "text": [
      "First five rows of the Iris dataset:\n",
      "[5.1 3.5 1.4 0.2]\n",
      "[4.9 3.  1.4 0.2]\n",
      "[4.7 3.2 1.3 0.2]\n",
      "[4.6 3.1 1.5 0.2]\n",
      "[5.  3.6 1.4 0.2]\n",
      "\n",
      "Covariance matrix:\n",
      "                    sepal length (cm)sepal width (cm)petal length (cm)petal width (cm)\n",
      "sepal length (cm)            0.0430         0.0365        -0.0025         0.0000\n",
      "sepal width (cm)             0.0365         0.0670        -0.0025         0.0000\n",
      "petal length (cm)           -0.0025        -0.0025         0.0050         0.0000\n",
      "petal width (cm)             0.0000         0.0000         0.0000         0.0000\n"
     ]
    }
   ],
   "source": [
    "from sklearn.datasets import load_iris\n",
    "\n",
    "# Load the Iris dataset\n",
    "iris = load_iris()\n",
    "\n",
    "# iris is a Bunch object, similar to a dictionary, containing data and metadata\n",
    "# The features (measurements) of the Iris dataset are stored in 'data'\n",
    "iris_data = iris.data\n",
    "\n",
    "# organize the data by feature (columns) \n",
    "organized_data = [iris_data[:5, feature_index].tolist() for feature_index in range(iris_data.shape[1])]\n",
    "    \n",
    "# compute the covariance matrix\n",
    "covariance_matrix = compute_covariance_matrix(organized_data)\n",
    "\n",
    "# get the feature names\n",
    "feature_names = iris.feature_names\n",
    "\n",
    "# print first five rows of the Iris dataset\n",
    "print('First five rows of the Iris dataset:')\n",
    "for row in iris_data[:5]:  \n",
    "    print(row)\n",
    "\n",
    "print('\\nCovariance matrix:')\n",
    "# print in a readable format\n",
    "header_row = \"{:<20}\".format(\"\") + \"\".join([\"{:>15}\".format(name) for name in feature_names])\n",
    "print(header_row)\n",
    "\n",
    "# print the covariance matrix row by row\n",
    "for feature_name, covariance_row in zip(feature_names, covariance_matrix):\n",
    "    row_label = \"{:<20}\".format(feature_name)\n",
    "    row_values = \"\".join([\"{:>15.4f}\".format(value) for value in covariance_row])\n",
    "    print(row_label + row_values)"
   ]
  },
  {
   "cell_type": "markdown",
   "metadata": {},
   "source": [
    "### Discuss the relationship between the variables."
   ]
  },
  {
   "cell_type": "markdown",
   "metadata": {},
   "source": [
    "## Sepal Length and Sepal Width\n",
    "### \n",
    "- Positive covariance value of 0.0365 indicates proportional relationship between both features\n",
    "- As sepal length increases, sepal width increases as well\n",
    "- Small covariance indicates that the relationship is not very strong\n",
    "###\n",
    "\n",
    "## Sepal Length and Petal Width\n",
    "### \n",
    "- Negative covariance of -0.0025 implies weak inverse relationship, and that those features are relatively independent\n",
    "- As sepal length increases, petal length slightly decreases\n",
    "- Small covariance indicates that the relationship is not very strong\n",
    "###\n",
    "\n",
    "## Sepal Width and Petal Width \n",
    "### \n",
    "- Covariance values involving petal width are consistently 0 across all pairs of features\n",
    "- Petal width is always the same \n",
    "###\n",
    "\n",
    "## Reading Diagonally for Variances\n",
    "###\n",
    "- Sepal width has the highest variance, at 0.067, showing that its values are more spread out than the other features\n",
    "- Sepal length is the second highest, at 0.043\n",
    "- Petal length has the least variability, at 0.005, excluding petal width \n",
    "###"
   ]
  },
  {
   "cell_type": "markdown",
   "metadata": {},
   "source": [
    "### Plot data points for 2 of the variables in the dataset and show how the covariance matrix reflects the orientation and spread of data."
   ]
  },
  {
   "cell_type": "code",
   "execution_count": 172,
   "metadata": {},
   "outputs": [
    {
     "data": {
      "image/png": "[encoded data removed]",
      "text/plain": [
       "<Figure size 600x400 with 1 Axes>"
      ]
     },
     "metadata": {},
     "output_type": "display_data"
    }
   ],
   "source": [
    "# Create plots here\n",
    "import matplotlib.pyplot as plt\n",
    "import seaborn as sns\n",
    "\n",
    "# index for sepal length \n",
    "x_index = 0  \n",
    "# index for sepal width\n",
    "y_index = 1 \n",
    "\n",
    "# Create plot with scatter \n",
    "plt.figure(figsize=(6, 4))\n",
    "sns.scatterplot(\n",
    "    x=iris_data[:5, x_index],\n",
    "    y=iris_data[:5, y_index],\n",
    "    s=100\n",
    ")\n",
    "# Add regression line\n",
    "sns.regplot(\n",
    "    x=iris_data[:5, x_index],\n",
    "    y=iris_data[:5, y_index],\n",
    "    scatter=False,\n",
    "    line_kws={\"color\": \"magenta\"},\n",
    "    ci=None\n",
    ")\n",
    "\n",
    "# Add labels and title\n",
    "plt.xlabel(feature_names[x_index])\n",
    "plt.ylabel(feature_names[y_index])\n",
    "plt.title(f\"{feature_names[x_index]} vs {feature_names[y_index]}\")\n",
    "plt.grid(True)\n",
    "plt.show()"
   ]
  },
  {
   "cell_type": "markdown",
   "metadata": {},
   "source": [
    "# References\n",
    "[1] Thomas H. Cormen, Charles E. Leiserson, Ronald L. Rivest, and Clifford Stein. Introduction to\n",
    "Algorithms, Third Edition. MIT Press and McGraw-Hill, 2009. ISBN-13: 978-0-262-03384-8<br><br>"
   ]
  }
 ],
 "metadata": {
  "kernelspec": {
   "display_name": ".venv",
   "language": "python",
   "name": "python3"
  },
  "language_info": {
   "codemirror_mode": {
    "name": "ipython",
    "version": 3
   },
   "file_extension": ".py",
   "mimetype": "text/x-python",
   "name": "python",
   "nbconvert_exporter": "python",
   "pygments_lexer": "ipython3",
   "version": "3.13.1"
  }
 },
 "nbformat": 4,
 "nbformat_minor": 2
}
